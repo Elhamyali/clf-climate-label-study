{
 "cells": [
  {
   "cell_type": "markdown",
   "metadata": {},
   "source": [
    "## Import libraries"
   ]
  },
  {
   "cell_type": "code",
   "execution_count": 81,
   "metadata": {},
   "outputs": [],
   "source": [
    "import pdfplumber\n",
    "import pandas as pd\n",
    "import re"
   ]
  },
  {
   "cell_type": "markdown",
   "metadata": {},
   "source": [
    "## Open PDF file, initialize dataframe and store data\n"
   ]
  },
  {
   "cell_type": "code",
   "execution_count": 97,
   "metadata": {},
   "outputs": [],
   "source": [
    "pdf_path = '/Users/elhamali/Documents/Data Projects/clf-climate-label-study/meal_plans_recipes/week-1-menus/Hopkins Cafe_Breakfast_Full Recipe.pdf'\n",
    "ingredients_re = r'(?:\\*|\\-)\\s(?!\\d+\\.|CCP:|CCP\\s:)([^\\n]+)'\n",
    "\n",
    "data = []"
   ]
  },
  {
   "cell_type": "markdown",
   "metadata": {},
   "source": [
    "## Define the regular expressions"
   ]
  },
  {
   "cell_type": "code",
   "execution_count": 98,
   "metadata": {},
   "outputs": [
    {
     "name": "stdout",
     "output_type": "stream",
     "text": [
      "Data Entry Added: {'Ingredient': 'Plain Cream Cheese', 'Quantity and Unit 1': '4.', 'Quantity and Unit 2': '38 Pound'}\n",
      "Data Entry Added: {'Ingredient': 'Milk Whole Gallon', 'Quantity and Unit 1': '1/', 'Quantity and Unit 2': '4 Cup 1/3 Tablespoon'}\n",
      "Data Entry Added: {'Ingredient': 'Light Brown Sugar', 'Quantity and Unit 1': '2 Cup', 'Quantity and Unit 2': '3 Tablespoon'}\n",
      "Data Entry Added: {'Ingredient': 'Ground Cinnamon', 'Quantity and Unit 1': '2', 'Quantity and Unit 2': '2/3 Tablespoon'}\n",
      "Data Entry Added: {'Ingredient': 'Light Amber Honey', 'Quantity and Unit 1': '1 Cup', 'Quantity and Unit 2': '2 Tablespoon'}\n"
     ]
    }
   ],
   "source": [
    "with pdfplumber.open(pdf_path) as pdf:\n",
    "    for page in pdf.pages:\n",
    "        text = page.extract_text()\n",
    "\n",
    "        # Extract ingredients using the adjusted regex\n",
    "        ingredients = re.findall(ingredients_re, text)\n",
    "\n",
    "        # Regex to separate ingredient name from multiple quantities and units\n",
    "        # Assuming quantities and units are at the end of the ingredient line\n",
    "        ingredient_split_re = r'([a-zA-Z\\s]+)(\\d+.*?)(\\d+.*|$)'\n",
    "\n",
    "        # Append extracted ingredients to the data list\n",
    "        for ingredient in ingredients:\n",
    "            match = re.match(ingredient_split_re, ingredient)\n",
    "            if match:\n",
    "                ingredient_name = match.group(1).strip()\n",
    "                quantity_and_unit_1 = match.group(2).strip()\n",
    "                quantity_and_unit_2 = match.group(3).strip() if match.group(3) else ''\n",
    "            else:\n",
    "                ingredient_name = ingredient.strip()\n",
    "                quantity_and_unit_1 = ''\n",
    "                quantity_and_unit_2 = ''\n",
    "\n",
    "            data_entry = {\n",
    "                'Ingredient': ingredient_name,\n",
    "                'Quantity and Unit 1': quantity_and_unit_1,\n",
    "                'Quantity and Unit 2': quantity_and_unit_2\n",
    "            }\n",
    "            data.append(data_entry)\n",
    "            print(\"Data Entry Added:\", data_entry)\n",
    "        \n",
    "        # Optional: Break after first page for initial testing\n",
    "        break"
   ]
  },
  {
   "cell_type": "markdown",
   "metadata": {},
   "source": [
    "## Convert the data into a pandas dataframe"
   ]
  },
  {
   "cell_type": "code",
   "execution_count": 99,
   "metadata": {},
   "outputs": [],
   "source": [
    "df = pd.DataFrame(data)"
   ]
  },
  {
   "cell_type": "markdown",
   "metadata": {},
   "source": [
    "## Save the dataframe to Excel file"
   ]
  },
  {
   "cell_type": "code",
   "execution_count": 100,
   "metadata": {},
   "outputs": [],
   "source": [
    "output_path = '/Users/elhamali/Documents/Data Projects/clf-climate-label-study/recipe-extraction-sheet.xlsx'\n",
    "df.to_excel(output_path, index=False)"
   ]
  }
 ],
 "metadata": {
  "kernelspec": {
   "display_name": "Python 3",
   "language": "python",
   "name": "python3"
  },
  "language_info": {
   "codemirror_mode": {
    "name": "ipython",
    "version": 3
   },
   "file_extension": ".py",
   "mimetype": "text/x-python",
   "name": "python",
   "nbconvert_exporter": "python",
   "pygments_lexer": "ipython3",
   "version": "3.9.6"
  },
  "orig_nbformat": 4
 },
 "nbformat": 4,
 "nbformat_minor": 2
}
