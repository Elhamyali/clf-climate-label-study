{
 "cells": [
  {
   "cell_type": "markdown",
   "metadata": {},
   "source": [
    "## Import libraries"
   ]
  },
  {
   "cell_type": "code",
   "execution_count": 4,
   "metadata": {},
   "outputs": [],
   "source": [
    "import pdfplumber\n",
    "import pandas as pd\n",
    "import re"
   ]
  },
  {
   "cell_type": "markdown",
   "metadata": {},
   "source": [
    "## Define the regular expressions\n"
   ]
  },
  {
   "cell_type": "code",
   "execution_count": 12,
   "metadata": {},
   "outputs": [],
   "source": [
    "pdf_path = '/Users/elhamali/Documents/Data Projects/clf-climate-label-study/sample-3-recipe-cards.pdf'"
   ]
  },
  {
   "cell_type": "markdown",
   "metadata": {},
   "source": [
    "## Open the PDF with pdfplumber"
   ]
  },
  {
   "cell_type": "code",
   "execution_count": 8,
   "metadata": {},
   "outputs": [],
   "source": [
    "# Initialize the dataframe to store data\n",
    "data = []"
   ]
  },
  {
   "cell_type": "code",
   "execution_count": 13,
   "metadata": {},
   "outputs": [
    {
     "ename": "NameError",
     "evalue": "name 'date_re' is not defined",
     "output_type": "error",
     "traceback": [
      "\u001b[0;31m---------------------------------------------------------------------------\u001b[0m",
      "\u001b[0;31mNameError\u001b[0m                                 Traceback (most recent call last)",
      "\u001b[1;32m/Users/elhamali/Documents/Data Projects/clf-climate-label-study/recipe_extraction.ipynb Cell 7\u001b[0m line \u001b[0;36m1\n\u001b[1;32m     <a href='vscode-notebook-cell:/Users/elhamali/Documents/Data%20Projects/clf-climate-label-study/recipe_extraction.ipynb#W6sZmlsZQ%3D%3D?line=9'>10</a>\u001b[0m portions_match \u001b[39m=\u001b[39m re\u001b[39m.\u001b[39msearch(portions_re, text)\n\u001b[1;32m     <a href='vscode-notebook-cell:/Users/elhamali/Documents/Data%20Projects/clf-climate-label-study/recipe_extraction.ipynb#W6sZmlsZQ%3D%3D?line=10'>11</a>\u001b[0m site \u001b[39m=\u001b[39m \u001b[39m'\u001b[39m\u001b[39mJHU Nolans on 33rd\u001b[39m\u001b[39m'\u001b[39m\n\u001b[0;32m---> <a href='vscode-notebook-cell:/Users/elhamali/Documents/Data%20Projects/clf-climate-label-study/recipe_extraction.ipynb#W6sZmlsZQ%3D%3D?line=11'>12</a>\u001b[0m date \u001b[39m=\u001b[39m re\u001b[39m.\u001b[39msearch(date_re, text)\u001b[39m.\u001b[39mgroup(\u001b[39m1\u001b[39m) \u001b[39mif\u001b[39;00m re\u001b[39m.\u001b[39msearch(date_re, text) \u001b[39melse\u001b[39;00m \u001b[39m'\u001b[39m\u001b[39mUnknown Date\u001b[39m\u001b[39m'\u001b[39m\n\u001b[1;32m     <a href='vscode-notebook-cell:/Users/elhamali/Documents/Data%20Projects/clf-climate-label-study/recipe_extraction.ipynb#W6sZmlsZQ%3D%3D?line=12'>13</a>\u001b[0m recipe_note \u001b[39m=\u001b[39m re\u001b[39m.\u001b[39msearch(recipe_note_re, text)\u001b[39m.\u001b[39mgroup(\u001b[39m1\u001b[39m) \u001b[39mif\u001b[39;00m re\u001b[39m.\u001b[39msearch(recipe_note_re, text) \u001b[39melse\u001b[39;00m \u001b[39m'\u001b[39m\u001b[39mNo Note\u001b[39m\u001b[39m'\u001b[39m\n\u001b[1;32m     <a href='vscode-notebook-cell:/Users/elhamali/Documents/Data%20Projects/clf-climate-label-study/recipe_extraction.ipynb#W6sZmlsZQ%3D%3D?line=13'>14</a>\u001b[0m meal_type \u001b[39m=\u001b[39m re\u001b[39m.\u001b[39msearch(meal_type_re, text)\u001b[39m.\u001b[39mgroup(\u001b[39m1\u001b[39m) \u001b[39mif\u001b[39;00m re\u001b[39m.\u001b[39msearch(meal_type_re, text) \u001b[39melse\u001b[39;00m \u001b[39m'\u001b[39m\u001b[39mUnknown Meal Type\u001b[39m\u001b[39m'\u001b[39m\n",
      "\u001b[0;31mNameError\u001b[0m: name 'date_re' is not defined"
     ]
    }
   ],
   "source": [
    "with pdfplumber.open(pdf_path) as pdf:\n",
    "    # Loop through each page in the PDF\n",
    "    for page in pdf.pages:\n",
    "        # Extract text from the current page\n",
    "        text = page.extract_text()\n",
    "\n",
    "        # Use regular expressions to match and parse the text\n",
    "        recipe_name_match = re.search(recipe_name_re, text)\n",
    "        yield_match = re.search(yield_re, text)\n",
    "        portions_match = re.search(portions_re, text)\n",
    "        site = 'JHU Nolans on 33rd'\n",
    "        date = re.search(date_re, text).group(1) if re.search(date_re, text) else 'Unknown Date'\n",
    "        recipe_note = re.search(recipe_note_re, text).group(1) if re.search(recipe_note_re, text) else 'No Note'\n",
    "        meal_type = re.search(meal_type_re, text).group(1) if re.search(meal_type_re, text) else 'Unknown Meal Type'\n",
    "        \n",
    "        # Only proceed if all parts were found\n",
    "        if recipe_name_match and yield_match and portions_match:\n",
    "            recipe_name = recipe_name_match.group(1)\n",
    "            yield_amount = yield_match.group(1)\n",
    "            portions, serving_portion_size = portions_match.groups()\n",
    "            \n",
    "            # Find all ingredients\n",
    "            ingredients_matches = re.findall(ingredients_re, text)\n",
    "            \n",
    "            # Process each ingredient match\n",
    "            for ingredient_match in ingredients_matches:\n",
    "                ingredient, portion_used, unit_and_portion_size = ingredient_match\n",
    "                portion_size = \" \".join(unit_and_portion_size.split()[:-1])\n",
    "                unit = unit_and_portion_size.split()[-1]\n",
    "                # Add the details to the data list\n",
    "                data.append({\n",
    "                    'Ingredient': ingredient,\n",
    "                    'Portion Used': portion_used,\n",
    "                    'Portion Size': portion_size,\n",
    "                    'Unit': unit,\n",
    "                    'Recipe Name': recipe_name,\n",
    "                    'Yield': yield_amount,\n",
    "                    'Portions': portions,\n",
    "                    'Serving Portion Size': serving_portion_size,\n",
    "                    'Site': 'JHU Nolans on 33rd',\n",
    "                    'Date': date,\n",
    "                    'Recipe Note': recipe_note,\n",
    "                    'Meal Type': meal_type\n",
    "                })"
   ]
  },
  {
   "cell_type": "markdown",
   "metadata": {},
   "source": [
    "## Convert the data into a pandas dataframe"
   ]
  },
  {
   "cell_type": "code",
   "execution_count": null,
   "metadata": {},
   "outputs": [],
   "source": [
    "df = pd.DataFrame(data)"
   ]
  },
  {
   "cell_type": "markdown",
   "metadata": {},
   "source": [
    "## Save the dataframe to an Excel file"
   ]
  }
 ],
 "metadata": {
  "kernelspec": {
   "display_name": "Python 3",
   "language": "python",
   "name": "python3"
  },
  "language_info": {
   "codemirror_mode": {
    "name": "ipython",
    "version": 3
   },
   "file_extension": ".py",
   "mimetype": "text/x-python",
   "name": "python",
   "nbconvert_exporter": "python",
   "pygments_lexer": "ipython3",
   "version": "3.9.6"
  },
  "orig_nbformat": 4
 },
 "nbformat": 4,
 "nbformat_minor": 2
}
