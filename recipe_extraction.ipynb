{
 "cells": [
  {
   "cell_type": "markdown",
   "metadata": {},
   "source": [
    "# Import libraries"
   ]
  },
  {
   "cell_type": "code",
   "execution_count": 2,
   "metadata": {},
   "outputs": [],
   "source": [
    "import pdfplumber\n",
    "import pandas as pd"
   ]
  },
  {
   "cell_type": "markdown",
   "metadata": {},
   "source": [
    "# Open Pdf, extract text and parse"
   ]
  },
  {
   "cell_type": "code",
   "execution_count": 3,
   "metadata": {},
   "outputs": [
    {
     "name": "stdout",
     "output_type": "stream",
     "text": [
      "Production Recipe\n",
      "JHU Nolans on 33rd [None]\n",
      "Monday 11/6/2023 Dinner\n",
      "Lemonade Blue Jay\n",
      "Cooking Time: Serving Pan: Yield: 1 1/2 Gallon\n",
      "Cooking Temp: Serving Utensil: Portions: 12 8 oz\n",
      "Internal Temp:\n",
      "Ingredients & Instructions...\n",
      "- Drink Lemonade Powder 0.75 14 Oz Pouch\n",
      "- Syrup Blue Curacao 0.38 1 LT\n",
      "- Water Tap 1 1/2 Gallon\n",
      "-\n",
      "1. Mix powder packet, water, and Blue Curacao syrup until powder is dissolved. Serve chilled.\n",
      "-\n",
      "CCP: Hold or serve cold food at or below 40 degrees F\n",
      "Distribution... Portions Yield\n",
      "Nolans on 33rd\n",
      "11/6/2023 Dinner 12 8 oz 1 1/2 Gallon\n",
      "Report Date:11/10/2023 4:28:00 PM Johns Hopkins University Page 1 of 258\n"
     ]
    }
   ],
   "source": [
    "pdf_path = '/Users/elhamali/Documents/Data Projects/clf-climate-label-study/sample-3-recipe-cards.pdf'\n",
    "with pdfplumber.open(pdf_path) as pdf:\n",
    "    page = pdf.pages[0]  # Change the page number as needed\n",
    "    text = page.extract_text()\n",
    "    print(text)  # This will print the text of the first page"
   ]
  }
 ],
 "metadata": {
  "kernelspec": {
   "display_name": "Python 3",
   "language": "python",
   "name": "python3"
  },
  "language_info": {
   "codemirror_mode": {
    "name": "ipython",
    "version": 3
   },
   "file_extension": ".py",
   "mimetype": "text/x-python",
   "name": "python",
   "nbconvert_exporter": "python",
   "pygments_lexer": "ipython3",
   "version": "3.9.6"
  },
  "orig_nbformat": 4
 },
 "nbformat": 4,
 "nbformat_minor": 2
}
