{
 "cells": [
  {
   "cell_type": "markdown",
   "metadata": {},
   "source": [
    "## Import libraries"
   ]
  },
  {
   "cell_type": "code",
   "execution_count": 4,
   "metadata": {},
   "outputs": [],
   "source": [
    "import pdfplumber\n",
    "import pandas as pd\n",
    "import re"
   ]
  },
  {
   "cell_type": "markdown",
   "metadata": {},
   "source": [
    "## Define the regular expressions\n"
   ]
  },
  {
   "cell_type": "code",
   "execution_count": 5,
   "metadata": {},
   "outputs": [],
   "source": [
    "pdf_path = '/Users/elhamali/Documents/Data Projects/clf-climate-label-study/sample-3-recipe-cards.pdf'\n",
    "\n",
    "recipe_name_re = r'Monday \\d{1,2}/\\d{1,2}/\\d{4} Dinner\\n(.+)\\n'\n",
    "yield_re = r'Yield: (.+?)\\n'\n",
    "portions_re = r'Portions: (\\d+) +(\\d+ oz)'\n",
    "ingredients_re = r'-\\s(.+?)\\s(\\d+\\.?\\d*|\\d+ \\d+/\\d+)\\s(.+)'"
   ]
  },
  {
   "cell_type": "markdown",
   "metadata": {},
   "source": [
    "## Open the PDF with pdfplumber"
   ]
  },
  {
   "cell_type": "code",
   "execution_count": 8,
   "metadata": {},
   "outputs": [],
   "source": [
    "# Initialize the dataframe to store data\n",
    "data = []"
   ]
  },
  {
   "cell_type": "code",
   "execution_count": null,
   "metadata": {},
   "outputs": [],
   "source": [
    "with pdfplumber.open(pdf_path) as pdf:\n",
    "    # Loop through each page in the PDF\n",
    "    for page in pdf.pages:\n",
    "        # Extract text from the current page\n",
    "        text = page.extract_text()\n",
    "\n",
    "        # Use regular expressions to match and parse the text\n",
    "        recipe_name_match = re.search(recipe_name_re, text)\n",
    "        yield_match = re.search(yield_re, text)\n",
    "        portions_match = re.search(portions_re, text)\n",
    "        site = re.search(site_re, text).group(0) if re.search(site_re, text) else 'Unknown Site'\n",
    "        date = re.search(date_re, text).group(1) if re.search(date_re, text) else 'Unknown Date'\n",
    "        recipe_note = re.search(recipe_note_re, text).group(1) if re.search(recipe_note_re, text) else 'No Note'\n",
    "        meal_type = re.search(meal_type_re, text).group(1) if re.search(meal_type_re, text) else 'Unknown Meal Type'\n",
    "        \n",
    "        # Only proceed if all parts were found\n",
    "        if recipe_name_match and yield_match and portions_match:\n",
    "            recipe_name = recipe_name_match.group(1)\n",
    "            yield_amount = yield_match.group(1)\n",
    "            portions = portions_match.group(1)\n",
    "            serving_portion_size = portions_match.group(2)\n",
    "            \n",
    "            # Find all ingredients\n",
    "            ingredients_matches = re.findall(ingredients_re, text)\n",
    "            \n",
    "            # Process each ingredient match\n",
    "            for ingredient_match in ingredients_matches:\n",
    "                ingredient, portion_used, unit = ingredient_match\n",
    "                # Add the details to the data list\n",
    "                data.append({\n",
    "                    'Ingredient': ingredient,\n",
    "                    'Portion Used': portion_used,\n",
    "                    'Portion Size': portion_size,\n",
    "                    'Unit': unit,\n",
    "                    'Recipe Name': recipe_name,\n",
    "                    'Yield': yield_amount,\n",
    "                    'Portions': portions,\n",
    "                    'Serving Portion Size': serving_portion_size,\n",
    "                    'Site': site,\n",
    "                    'Date': date,\n",
    "                    'Recipe Note': recipe_note,\n",
    "                    'Meal Type': meal_type\n",
    "                })"
   ]
  },
  {
   "cell_type": "markdown",
   "metadata": {},
   "source": [
    "## Convert the data into a pandas DataFrame"
   ]
  },
  {
   "cell_type": "code",
   "execution_count": null,
   "metadata": {},
   "outputs": [],
   "source": [
    "df = pd.DataFrame(data)"
   ]
  },
  {
   "cell_type": "markdown",
   "metadata": {},
   "source": [
    "## Save the dataframe to an Excel file"
   ]
  },
  {
   "cell_type": "code",
   "execution_count": null,
   "metadata": {},
   "outputs": [],
   "source": [
    "output_path = '/Users/elhamali/Documents/Data Projects/clf-climate-label-study/recipe-extraction-sheet.xlsx'\n",
    "df.to_excel(output_path, index=False)"
   ]
  }
 ],
 "metadata": {
  "kernelspec": {
   "display_name": "Python 3",
   "language": "python",
   "name": "python3"
  },
  "language_info": {
   "codemirror_mode": {
    "name": "ipython",
    "version": 3
   },
   "file_extension": ".py",
   "mimetype": "text/x-python",
   "name": "python",
   "nbconvert_exporter": "python",
   "pygments_lexer": "ipython3",
   "version": "3.9.6"
  },
  "orig_nbformat": 4
 },
 "nbformat": 4,
 "nbformat_minor": 2
}
